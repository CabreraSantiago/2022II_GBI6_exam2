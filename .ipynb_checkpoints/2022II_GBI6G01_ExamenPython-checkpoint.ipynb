{
 "cells": [
  {
   "cell_type": "markdown",
   "metadata": {},
   "source": [
    "<img src=\"data:image/png;base64,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\" width=300 height=240 />\n",
    "<font color='red'>(cambie la imagen por el logo de Ikiam)</font>\n",
    "\n",
    "# EXAMEN PARCIAL PYTHON\n",
    "    \n",
    "\n",
    "## GBI6-2022II: BIOINFORMÁTICA\n",
    "\n",
    "**Apellidos, Nombres** Cabrera Llalao Dennys Santiago\n",
    "\n",
    "**01-02-2022**"
   ]
  },
  {
   "cell_type": "markdown",
   "metadata": {},
   "source": [
    "### REQUERIMIENTOS PARA EL EXAMEN\n",
    "\n",
    "Utilice de preferencia ```Jupyter``` de Anaconda, dado que tienen que hacer un control de cambios en cada pregunta. \n",
    "\n",
    "Para este examen se requiere dos documentos: \n",
    "\n",
    "1. Archivo ```coati.py``` donde tendrá dos funciones:\n",
    "\n",
    "2. Archivo ```2022II_GBI6_ExamenPython``` donde se llamará las funciones y se obtendrá resultados."
   ]
  },
  {
   "cell_type": "markdown",
   "metadata": {},
   "source": [
    "## Ejercicio 0 [0.5 puntos]\n",
    "Realice cambios al cuaderno de jupyter: \n",
    "- Agregue el logo de la Universidad\n",
    "- Coloque sus datos personales \n",
    "- Escriba una <font color='red'>**tabla**</font> con las características de su computador \n"
   ]
  },
  {
   "cell_type": "markdown",
   "metadata": {},
   "source": [
    "## Ejercicio 1 [1.5 puntos]\n",
    "Inserte la captura de pantalla del curso [PANDAS](https://www.kaggle.com/learn/pandas) de Kaggle (Certificado y evidencia de avance de la página de Kaggle)"
   ]
  },
  {
   "cell_type": "markdown",
   "metadata": {},
   "source": []
  },
  {
   "cell_type": "markdown",
   "metadata": {},
   "source": [
    "## Ejercicio 2 [1.5 puntos]\n",
    "Inserte la captura de pantalla del curso [VISUALIZACIÓN](https://www.kaggle.com/learn/data-visualization) de Kaggle (Certificado y evidencia de avance de la página de Kaggle)"
   ]
  },
  {
   "cell_type": "markdown",
   "metadata": {},
   "source": []
  },
  {
   "cell_type": "markdown",
   "metadata": {},
   "source": [
    "## Ejercicio 3 [3 puntos]\n",
    "\n",
    "En su carpeta de examen tiene el documento ```id_coati.txt``` donde se encuentran los identificadores de accesión que debe usar para descargar información. \n",
    "Cree el módulo ```coati.py``` con las siguientes tres **funciones** y sus respectivos **docstring** :\n",
    "    \n",
    "i. ```fasta_downloader```: para cargar ```id_coati.txt``` en ```id_coati```y descargar en **formato genbank** la información correspondiente a los identificadores de accesión usando el **ENTREZ** de Biopythony se guardar en ```coati``` y en ```coati.gb```. \n",
    "\n",
    "ii. ```alignment```: para que el algoritmo extraiga **solamente las secuencias** de la variable ```coati``` y realice un alineamiento usando clustalW. El resultado debe ser ```coati.aln``` y ```coati.dnd``` que deben guardarse en su carpeta de trabajo.  \n",
    "\n",
    "iii ```tree```: para que realice el cálculo de las distancias utilizando ```coati.aln``` y finalmente que imprima en la pantalla el árbol filogenético y guarde en su carpeta de trabajo el arbol como ```coati_phylotree.pdf```\n",
    "\n",
    "iv. Cargue el módulo ```coati``` e **imprima docstring de cada función**.\n"
   ]
  },
  {
   "cell_type": "code",
   "execution_count": 1,
   "metadata": {},
   "outputs": [],
   "source": [
    "# Escriba aquí su código para el ejercicio 3\n",
    "\n",
    "\n",
    "\n",
    "\n",
    "\n",
    "\n",
    "\n",
    "\n",
    "\n"
   ]
  },
  {
   "cell_type": "markdown",
   "metadata": {},
   "source": [
    "\n",
    "## Ejercicio 4 [1.5 puntos]\n",
    "\n",
    "Escriba una o dos líneas de código para usar las funciones ```fasta_downloader```, ```alignment``` y ```tree```: \n",
    "\n",
    "i. Descargue la data en ```coati``` y guarde como ```coati.gdb```.  \n",
    "\n",
    "ii. Alinee las secuencias de ```coati``` y obtenga ```coati.aln``` y ```coati.dnd```.\n",
    "\n",
    "iii. Construya e **interprete** el arbol filogenético y guarde en ```coati_phylotree.pdf```."
   ]
  },
  {
   "cell_type": "code",
   "execution_count": 2,
   "metadata": {},
   "outputs": [],
   "source": [
    "# Escriba aquí su código para el ejercicio 4\n",
    "\n"
   ]
  },
  {
   "cell_type": "markdown",
   "metadata": {},
   "source": [
    "## Ejercicio 5 [1.5 puntos]\n",
    "\n",
    "Con las secuencias de ADN de ```coati```, realice lo siguiente: \n",
    "\n",
    "i. la traducción y cálculo del peso molecular (**molecular_weight**) y el índice de estabilidad (**instability_index**) de los péptidos resultantes. \n",
    "\n",
    "ii. una gráfica tipo [joinplot](https://seaborn.pydata.org/generated/seaborn.jointplot.html#seaborn.jointplot) utilizando los parámetros de peso molecular e índice de estabilidad. Edite color, tamaño y tipo de puntos, asimismo etiquete adecuadamente el título y los ejes.\n",
    "\n",
    "iii. guarde la figura como ```coati.png``` con una resolución de 300dpi.\n",
    "\n",
    "iv. interprete la figura resultante"
   ]
  },
  {
   "cell_type": "code",
   "execution_count": 4,
   "metadata": {},
   "outputs": [],
   "source": [
    "# Escriba aquí su código para el ejercicio 5\n",
    "\n",
    "\n",
    "\n",
    "\n",
    "\n",
    "\n",
    "\n",
    "\n",
    "\n",
    "\n",
    "\n",
    "\n",
    "\n",
    "\n",
    "\n"
   ]
  },
  {
   "cell_type": "markdown",
   "metadata": {},
   "source": [
    "## Ejercicio 6 [0.5 puntos]\n",
    "\n",
    "\n",
    "1. Cree un archivo ```Readme.md``` que debe tener lo siguiente:\n",
    "- Datos personales\n",
    "- Características del computador\n",
    "- Versión de Python/Anaconda y de cada uno de los módulos/paquetes y utilizados\n",
    "- Explicación de la data utilizada\n",
    "\n",
    "2. Asegurarse que su repositorio tiene las carpetas ```data``` e ```img``` con los archivos que ha ido guardando en las preguntas anteriores.  \n",
    "3. Realice al menos 1 control de la versión (commits) por cada ejercicio (del 1 al 5), con un mensaje que inicie como: \n",
    "\n",
    "```sh \n",
    "Carlitos Alimaña ha realizado el ejercicio 1  \n",
    "```\n",
    "```sh \n",
    "Carlitos Alimaña ha realizado el ejercicio 2\n",
    "```\n",
    "```sh \n",
    "...\n",
    "```\n"
   ]
  },
  {
   "cell_type": "code",
   "execution_count": null,
   "metadata": {},
   "outputs": [],
   "source": []
  }
 ],
 "metadata": {
  "kernelspec": {
   "display_name": "Python 3 (ipykernel)",
   "language": "python",
   "name": "python3"
  },
  "language_info": {
   "codemirror_mode": {
    "name": "ipython",
    "version": 3
   },
   "file_extension": ".py",
   "mimetype": "text/x-python",
   "name": "python",
   "nbconvert_exporter": "python",
   "pygments_lexer": "ipython3",
   "version": "3.9.13"
  },
  "latex_envs": {
   "LaTeX_envs_menu_present": true,
   "autoclose": false,
   "autocomplete": true,
   "bibliofile": "biblio.bib",
   "cite_by": "apalike",
   "current_citInitial": 1,
   "eqLabelWithNumbers": true,
   "eqNumInitial": 1,
   "hotkeys": {
    "equation": "Ctrl-E",
    "itemize": "Ctrl-I"
   },
   "labels_anchors": false,
   "latex_user_defs": false,
   "report_style_numbering": false,
   "user_envs_cfg": false
  },
  "toc": {
   "base_numbering": 1,
   "nav_menu": {},
   "number_sections": true,
   "sideBar": false,
   "skip_h1_title": false,
   "title_cell": "Table of Contents",
   "title_sidebar": "Contents",
   "toc_cell": false,
   "toc_position": {
    "height": "1152.67px",
    "left": "41px",
    "top": "110px",
    "width": "253.458px"
   },
   "toc_section_display": true,
   "toc_window_display": false
  },
  "varInspector": {
   "cols": {
    "lenName": 16,
    "lenType": 16,
    "lenVar": 40
   },
   "kernels_config": {
    "python": {
     "delete_cmd_postfix": "",
     "delete_cmd_prefix": "del ",
     "library": "var_list.py",
     "varRefreshCmd": "print(var_dic_list())"
    },
    "r": {
     "delete_cmd_postfix": ") ",
     "delete_cmd_prefix": "rm(",
     "library": "var_list.r",
     "varRefreshCmd": "cat(var_dic_list()) "
    }
   },
   "types_to_exclude": [
    "module",
    "function",
    "builtin_function_or_method",
    "instance",
    "_Feature"
   ],
   "window_display": false
  }
 },
 "nbformat": 4,
 "nbformat_minor": 4
}
